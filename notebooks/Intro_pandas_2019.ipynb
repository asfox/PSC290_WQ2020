{
 "cells": [
  {
   "cell_type": "code",
   "execution_count": 1,
   "metadata": {},
   "outputs": [],
   "source": [
    "import pandas as pd\n",
    "import matplotlib.pyplot as plt\n",
    "import seaborn as sns\n",
    "import numpy as np\n"
   ]
  },
  {
   "cell_type": "code",
   "execution_count": 2,
   "metadata": {},
   "outputs": [
    {
     "name": "stdout",
     "output_type": "stream",
     "text": [
      "nba/NBA Season Data.csv           nba/nba_salaries_1990_to_2018.csv\n"
     ]
    }
   ],
   "source": [
    "!ls nba/*"
   ]
  },
  {
   "cell_type": "code",
   "execution_count": 3,
   "metadata": {},
   "outputs": [],
   "source": [
    "season = pd.read_csv('nba/NBA Season Data.csv')\n",
    "salary = pd.read_csv('nba/nba_salaries_1990_to_2018.csv')"
   ]
  },
  {
   "cell_type": "code",
   "execution_count": 5,
   "metadata": {},
   "outputs": [
    {
     "name": "stdout",
     "output_type": "stream",
     "text": [
      "              player   salary  season_end  season_start team      team_name\n",
      "0       Moses Malone  2406000        1991          1990  ATL  Atlanta Hawks\n",
      "1  Dominique Wilkins  2065000        1991          1990  ATL  Atlanta Hawks\n",
      "2         Jon Koncak  1550000        1991          1990  ATL  Atlanta Hawks\n",
      "3         Doc Rivers   895000        1991          1990  ATL  Atlanta Hawks\n",
      "4    Rumeal Robinson   800000        1991          1990  ATL  Atlanta Hawks\n"
     ]
    }
   ],
   "source": [
    "print(salary.head())"
   ]
  },
  {
   "cell_type": "code",
   "execution_count": 22,
   "metadata": {},
   "outputs": [
    {
     "data": {
      "text/html": [
       "<div>\n",
       "<style scoped>\n",
       "    .dataframe tbody tr th:only-of-type {\n",
       "        vertical-align: middle;\n",
       "    }\n",
       "\n",
       "    .dataframe tbody tr th {\n",
       "        vertical-align: top;\n",
       "    }\n",
       "\n",
       "    .dataframe thead th {\n",
       "        text-align: right;\n",
       "    }\n",
       "</style>\n",
       "<table border=\"1\" class=\"dataframe\">\n",
       "  <thead>\n",
       "    <tr style=\"text-align: right;\">\n",
       "      <th></th>\n",
       "      <th>salary</th>\n",
       "      <th>season_end</th>\n",
       "    </tr>\n",
       "    <tr>\n",
       "      <th>season_start</th>\n",
       "      <th></th>\n",
       "      <th></th>\n",
       "    </tr>\n",
       "  </thead>\n",
       "  <tbody>\n",
       "    <tr>\n",
       "      <th>1990</th>\n",
       "      <td>8.316232e+05</td>\n",
       "      <td>1991.0</td>\n",
       "    </tr>\n",
       "    <tr>\n",
       "      <th>1991</th>\n",
       "      <td>9.494745e+05</td>\n",
       "      <td>1992.0</td>\n",
       "    </tr>\n",
       "    <tr>\n",
       "      <th>1992</th>\n",
       "      <td>1.062173e+06</td>\n",
       "      <td>1993.0</td>\n",
       "    </tr>\n",
       "    <tr>\n",
       "      <th>1993</th>\n",
       "      <td>1.269884e+06</td>\n",
       "      <td>1994.0</td>\n",
       "    </tr>\n",
       "    <tr>\n",
       "      <th>1994</th>\n",
       "      <td>1.351429e+06</td>\n",
       "      <td>1995.0</td>\n",
       "    </tr>\n",
       "    <tr>\n",
       "      <th>1995</th>\n",
       "      <td>1.731768e+06</td>\n",
       "      <td>1996.0</td>\n",
       "    </tr>\n",
       "    <tr>\n",
       "      <th>1996</th>\n",
       "      <td>1.956153e+06</td>\n",
       "      <td>1997.0</td>\n",
       "    </tr>\n",
       "    <tr>\n",
       "      <th>1997</th>\n",
       "      <td>2.118660e+06</td>\n",
       "      <td>1998.0</td>\n",
       "    </tr>\n",
       "    <tr>\n",
       "      <th>1998</th>\n",
       "      <td>2.370725e+06</td>\n",
       "      <td>1999.0</td>\n",
       "    </tr>\n",
       "    <tr>\n",
       "      <th>1999</th>\n",
       "      <td>2.446897e+06</td>\n",
       "      <td>2000.0</td>\n",
       "    </tr>\n",
       "    <tr>\n",
       "      <th>2000</th>\n",
       "      <td>3.166965e+06</td>\n",
       "      <td>2001.0</td>\n",
       "    </tr>\n",
       "    <tr>\n",
       "      <th>2001</th>\n",
       "      <td>3.395648e+06</td>\n",
       "      <td>2002.0</td>\n",
       "    </tr>\n",
       "    <tr>\n",
       "      <th>2002</th>\n",
       "      <td>3.615879e+06</td>\n",
       "      <td>2003.0</td>\n",
       "    </tr>\n",
       "    <tr>\n",
       "      <th>2003</th>\n",
       "      <td>3.618290e+06</td>\n",
       "      <td>2004.0</td>\n",
       "    </tr>\n",
       "    <tr>\n",
       "      <th>2004</th>\n",
       "      <td>3.843417e+06</td>\n",
       "      <td>2005.0</td>\n",
       "    </tr>\n",
       "    <tr>\n",
       "      <th>2005</th>\n",
       "      <td>3.899138e+06</td>\n",
       "      <td>2006.0</td>\n",
       "    </tr>\n",
       "    <tr>\n",
       "      <th>2006</th>\n",
       "      <td>3.661675e+06</td>\n",
       "      <td>2007.0</td>\n",
       "    </tr>\n",
       "    <tr>\n",
       "      <th>2007</th>\n",
       "      <td>4.267399e+06</td>\n",
       "      <td>2008.0</td>\n",
       "    </tr>\n",
       "    <tr>\n",
       "      <th>2008</th>\n",
       "      <td>4.639650e+06</td>\n",
       "      <td>2009.0</td>\n",
       "    </tr>\n",
       "    <tr>\n",
       "      <th>2009</th>\n",
       "      <td>4.463127e+06</td>\n",
       "      <td>2010.0</td>\n",
       "    </tr>\n",
       "    <tr>\n",
       "      <th>2010</th>\n",
       "      <td>4.360457e+06</td>\n",
       "      <td>2011.0</td>\n",
       "    </tr>\n",
       "    <tr>\n",
       "      <th>2011</th>\n",
       "      <td>4.304073e+06</td>\n",
       "      <td>2012.0</td>\n",
       "    </tr>\n",
       "    <tr>\n",
       "      <th>2012</th>\n",
       "      <td>4.325841e+06</td>\n",
       "      <td>2013.0</td>\n",
       "    </tr>\n",
       "    <tr>\n",
       "      <th>2013</th>\n",
       "      <td>4.873761e+06</td>\n",
       "      <td>2014.0</td>\n",
       "    </tr>\n",
       "    <tr>\n",
       "      <th>2014</th>\n",
       "      <td>3.850108e+06</td>\n",
       "      <td>2015.0</td>\n",
       "    </tr>\n",
       "    <tr>\n",
       "      <th>2015</th>\n",
       "      <td>4.178343e+06</td>\n",
       "      <td>2016.0</td>\n",
       "    </tr>\n",
       "    <tr>\n",
       "      <th>2016</th>\n",
       "      <td>4.856298e+06</td>\n",
       "      <td>2017.0</td>\n",
       "    </tr>\n",
       "    <tr>\n",
       "      <th>2017</th>\n",
       "      <td>6.527594e+06</td>\n",
       "      <td>2018.0</td>\n",
       "    </tr>\n",
       "  </tbody>\n",
       "</table>\n",
       "</div>"
      ],
      "text/plain": [
       "                    salary  season_end\n",
       "season_start                          \n",
       "1990          8.316232e+05      1991.0\n",
       "1991          9.494745e+05      1992.0\n",
       "1992          1.062173e+06      1993.0\n",
       "1993          1.269884e+06      1994.0\n",
       "1994          1.351429e+06      1995.0\n",
       "1995          1.731768e+06      1996.0\n",
       "1996          1.956153e+06      1997.0\n",
       "1997          2.118660e+06      1998.0\n",
       "1998          2.370725e+06      1999.0\n",
       "1999          2.446897e+06      2000.0\n",
       "2000          3.166965e+06      2001.0\n",
       "2001          3.395648e+06      2002.0\n",
       "2002          3.615879e+06      2003.0\n",
       "2003          3.618290e+06      2004.0\n",
       "2004          3.843417e+06      2005.0\n",
       "2005          3.899138e+06      2006.0\n",
       "2006          3.661675e+06      2007.0\n",
       "2007          4.267399e+06      2008.0\n",
       "2008          4.639650e+06      2009.0\n",
       "2009          4.463127e+06      2010.0\n",
       "2010          4.360457e+06      2011.0\n",
       "2011          4.304073e+06      2012.0\n",
       "2012          4.325841e+06      2013.0\n",
       "2013          4.873761e+06      2014.0\n",
       "2014          3.850108e+06      2015.0\n",
       "2015          4.178343e+06      2016.0\n",
       "2016          4.856298e+06      2017.0\n",
       "2017          6.527594e+06      2018.0"
      ]
     },
     "execution_count": 22,
     "metadata": {},
     "output_type": "execute_result"
    },
    {
     "data": {
      "image/png": "[encoded data removed]",
      "text/plain": [
       "<Figure size 432x288 with 1 Axes>"
      ]
     },
     "metadata": {},
     "output_type": "display_data"
    }
   ],
   "source": [
    "salary.groupby('season_start').mean()['salary'].plot()\n",
    "g = salary.groupby('season_start')\n",
    "g.mean()\n",
    "# plt.plot( g.sum() )"
   ]
  },
  {
   "cell_type": "code",
   "execution_count": 23,
   "metadata": {},
   "outputs": [
    {
     "data": {
      "text/plain": [
       "<matplotlib.axes._subplots.AxesSubplot at 0x1a1b409198>"
      ]
     },
     "execution_count": 23,
     "metadata": {},
     "output_type": "execute_result"
    },
    {
     "data": {
      "image/png": "[encoded data removed]",
      "text/plain": [
       "<Figure size 432x288 with 1 Axes>"
      ]
     },
     "metadata": {},
     "output_type": "display_data"
    }
   ],
   "source": [
    "salary.groupby('season_start').min()['salary'].plot()\n",
    "salary.groupby('season_start').mean()['salary'].plot()\n",
    "salary.groupby('season_start').max()['salary'].plot()\n"
   ]
  },
  {
   "cell_type": "code",
   "execution_count": 24,
   "metadata": {},
   "outputs": [
    {
     "data": {
      "text/plain": [
       "<matplotlib.axes._subplots.AxesSubplot at 0x1a1b4093c8>"
      ]
     },
     "execution_count": 24,
     "metadata": {},
     "output_type": "execute_result"
    },
    {
     "data": {
      "image/png": "[encoded data removed]",
      "text/plain": [
       "<Figure size 432x288 with 1 Axes>"
      ]
     },
     "metadata": {},
     "output_type": "display_data"
    }
   ],
   "source": [
    "salary.groupby('season_start').median()['salary'].plot()\n"
   ]
  },
  {
   "cell_type": "code",
   "execution_count": 28,
   "metadata": {},
   "outputs": [
    {
     "data": {
      "text/html": [
       "<div>\n",
       "<style scoped>\n",
       "    .dataframe tbody tr th:only-of-type {\n",
       "        vertical-align: middle;\n",
       "    }\n",
       "\n",
       "    .dataframe tbody tr th {\n",
       "        vertical-align: top;\n",
       "    }\n",
       "\n",
       "    .dataframe thead th {\n",
       "        text-align: right;\n",
       "    }\n",
       "</style>\n",
       "<table border=\"1\" class=\"dataframe\">\n",
       "  <thead>\n",
       "    <tr style=\"text-align: right;\">\n",
       "      <th></th>\n",
       "      <th>player</th>\n",
       "      <th>salary</th>\n",
       "      <th>season_end</th>\n",
       "      <th>season_start</th>\n",
       "      <th>team</th>\n",
       "      <th>team_name</th>\n",
       "    </tr>\n",
       "  </thead>\n",
       "  <tbody>\n",
       "    <tr>\n",
       "      <th>1103</th>\n",
       "      <td>Michael Jordan</td>\n",
       "      <td>30140000</td>\n",
       "      <td>1997</td>\n",
       "      <td>1996</td>\n",
       "      <td>CHI</td>\n",
       "      <td>Chicago Bulls</td>\n",
       "    </tr>\n",
       "    <tr>\n",
       "      <th>8283</th>\n",
       "      <td>Horace Grant</td>\n",
       "      <td>14857000</td>\n",
       "      <td>1997</td>\n",
       "      <td>1996</td>\n",
       "      <td>ORL</td>\n",
       "      <td>Orlando Magic</td>\n",
       "    </tr>\n",
       "    <tr>\n",
       "      <th>3933</th>\n",
       "      <td>Reggie Miller</td>\n",
       "      <td>11250000</td>\n",
       "      <td>1997</td>\n",
       "      <td>1996</td>\n",
       "      <td>IND</td>\n",
       "      <td>Indiana Pacers</td>\n",
       "    </tr>\n",
       "    <tr>\n",
       "      <th>4742</th>\n",
       "      <td>Shaquille O\\'Neal</td>\n",
       "      <td>10714000</td>\n",
       "      <td>1997</td>\n",
       "      <td>1996</td>\n",
       "      <td>LAL</td>\n",
       "      <td>Los Angeles Lakers</td>\n",
       "    </tr>\n",
       "    <tr>\n",
       "      <th>7865</th>\n",
       "      <td>Gary Payton</td>\n",
       "      <td>10212000</td>\n",
       "      <td>1997</td>\n",
       "      <td>1996</td>\n",
       "      <td>OKC</td>\n",
       "      <td>Oklahoma City Thunder</td>\n",
       "    </tr>\n",
       "  </tbody>\n",
       "</table>\n",
       "</div>"
      ],
      "text/plain": [
       "                 player    salary  season_end  season_start team  \\\n",
       "1103     Michael Jordan  30140000        1997          1996  CHI   \n",
       "8283       Horace Grant  14857000        1997          1996  ORL   \n",
       "3933      Reggie Miller  11250000        1997          1996  IND   \n",
       "4742  Shaquille O\\'Neal  10714000        1997          1996  LAL   \n",
       "7865        Gary Payton  10212000        1997          1996  OKC   \n",
       "\n",
       "                  team_name  \n",
       "1103          Chicago Bulls  \n",
       "8283          Orlando Magic  \n",
       "3933         Indiana Pacers  \n",
       "4742     Los Angeles Lakers  \n",
       "7865  Oklahoma City Thunder  "
      ]
     },
     "execution_count": 28,
     "metadata": {},
     "output_type": "execute_result"
    }
   ],
   "source": [
    "salary[salary['season_start']==1996].sort_values('salary', ascending=False).head()"
   ]
  },
  {
   "cell_type": "code",
   "execution_count": 30,
   "metadata": {},
   "outputs": [
    {
     "data": {
      "text/html": [
       "<div>\n",
       "<style scoped>\n",
       "    .dataframe tbody tr th:only-of-type {\n",
       "        vertical-align: middle;\n",
       "    }\n",
       "\n",
       "    .dataframe tbody tr th {\n",
       "        vertical-align: top;\n",
       "    }\n",
       "\n",
       "    .dataframe thead th {\n",
       "        text-align: right;\n",
       "    }\n",
       "</style>\n",
       "<table border=\"1\" class=\"dataframe\">\n",
       "  <thead>\n",
       "    <tr style=\"text-align: right;\">\n",
       "      <th></th>\n",
       "      <th>player</th>\n",
       "      <th>salary</th>\n",
       "      <th>season_end</th>\n",
       "      <th>season_start</th>\n",
       "      <th>team</th>\n",
       "      <th>team_name</th>\n",
       "    </tr>\n",
       "  </thead>\n",
       "  <tbody>\n",
       "    <tr>\n",
       "      <th>3472</th>\n",
       "      <td>Stephen Curry</td>\n",
       "      <td>34682550</td>\n",
       "      <td>2018</td>\n",
       "      <td>2017</td>\n",
       "      <td>GSW</td>\n",
       "      <td>Golden State Warriors</td>\n",
       "    </tr>\n",
       "    <tr>\n",
       "      <th>1823</th>\n",
       "      <td>LeBron James</td>\n",
       "      <td>33285709</td>\n",
       "      <td>2018</td>\n",
       "      <td>2017</td>\n",
       "      <td>CLE</td>\n",
       "      <td>Cleveland Caveliers</td>\n",
       "    </tr>\n",
       "    <tr>\n",
       "      <th>2663</th>\n",
       "      <td>Paul Millsap</td>\n",
       "      <td>31269231</td>\n",
       "      <td>2018</td>\n",
       "      <td>2017</td>\n",
       "      <td>DEN</td>\n",
       "      <td>Denver Nuggets</td>\n",
       "    </tr>\n",
       "    <tr>\n",
       "      <th>828</th>\n",
       "      <td>Gordon Hayward</td>\n",
       "      <td>29727900</td>\n",
       "      <td>2018</td>\n",
       "      <td>2017</td>\n",
       "      <td>BOS</td>\n",
       "      <td>Boston Celtic</td>\n",
       "    </tr>\n",
       "    <tr>\n",
       "      <th>4638</th>\n",
       "      <td>Blake Griffin</td>\n",
       "      <td>29512900</td>\n",
       "      <td>2018</td>\n",
       "      <td>2017</td>\n",
       "      <td>LAC</td>\n",
       "      <td>Los Angeles Clippers</td>\n",
       "    </tr>\n",
       "  </tbody>\n",
       "</table>\n",
       "</div>"
      ],
      "text/plain": [
       "              player    salary  season_end  season_start team  \\\n",
       "3472   Stephen Curry  34682550        2018          2017  GSW   \n",
       "1823    LeBron James  33285709        2018          2017  CLE   \n",
       "2663    Paul Millsap  31269231        2018          2017  DEN   \n",
       "828   Gordon Hayward  29727900        2018          2017  BOS   \n",
       "4638   Blake Griffin  29512900        2018          2017  LAC   \n",
       "\n",
       "                  team_name  \n",
       "3472  Golden State Warriors  \n",
       "1823    Cleveland Caveliers  \n",
       "2663         Denver Nuggets  \n",
       "828           Boston Celtic  \n",
       "4638   Los Angeles Clippers  "
      ]
     },
     "execution_count": 30,
     "metadata": {},
     "output_type": "execute_result"
    }
   ],
   "source": [
    "salary[salary['season_start']==2017].sort_values('salary', ascending=False).head()"
   ]
  },
  {
   "cell_type": "code",
   "execution_count": 33,
   "metadata": {},
   "outputs": [
    {
     "name": "stdout",
     "output_type": "stream",
     "text": [
      "                player   salary  season_end  season_start team  \\\n",
      "10315   David Robinson  7300000        1995          1994  SAS   \n",
      "9092        A.C. Green  6472600        1995          1994  PHO   \n",
      "7838   Detlef Schrempf  5000000        1995          1994  OKC   \n",
      "7445     Patrick Ewing  4486700        1995          1994  NYK   \n",
      "7839       Sam Perkins  4126600        1995          1994  OKC   \n",
      "\n",
      "                   team_name  \n",
      "10315      San Antonio Spurs  \n",
      "9092            Phoenix Suns  \n",
      "7838   Oklahoma City Thunder  \n",
      "7445         New York Knicks  \n",
      "7839   Oklahoma City Thunder  \n",
      "               player    salary  season_end  season_start team  \\\n",
      "7463    Patrick Ewing  18724000        1996          1995  NYK   \n",
      "3546    Clyde Drexler   9810000        1996          1995  HOU   \n",
      "10331  David Robinson   7700000        1996          1995  SAS   \n",
      "11466    Chris Webber   7000000        1996          1995  WAS   \n",
      "9106    Danny Manning   6833000        1996          1995  PHO   \n",
      "\n",
      "                team_name  \n",
      "7463      New York Knicks  \n",
      "3546      Houston Rockets  \n",
      "10331   San Antonio Spurs  \n",
      "11466  Washington Wizards  \n",
      "9106         Phoenix Suns  \n",
      "                 player    salary  season_end  season_start team  \\\n",
      "1103     Michael Jordan  30140000        1997          1996  CHI   \n",
      "8283       Horace Grant  14857000        1997          1996  ORL   \n",
      "3933      Reggie Miller  11250000        1997          1996  IND   \n",
      "4742  Shaquille O\\'Neal  10714000        1997          1996  LAL   \n",
      "7865        Gary Payton  10212000        1997          1996  OKC   \n",
      "\n",
      "                  team_name  \n",
      "1103          Chicago Bulls  \n",
      "8283          Orlando Magic  \n",
      "3933         Indiana Pacers  \n",
      "4742     Los Angeles Lakers  \n",
      "7865  Oklahoma City Thunder  \n",
      "                  player    salary  season_end  season_start team  \\\n",
      "1116      Michael Jordan  33140000        1998          1997  CHI   \n",
      "7491       Patrick Ewing  20500000        1998          1997  NYK   \n",
      "8298        Horace Grant  14285714        1998          1997  ORL   \n",
      "4755   Shaquille O\\'Neal  12857143        1998          1997  LAL   \n",
      "10359     David Robinson  12397440        1998          1997  SAS   \n",
      "\n",
      "                team_name  \n",
      "1116        Chicago Bulls  \n",
      "7491      New York Knicks  \n",
      "8298        Orlando Magic  \n",
      "4755   Los Angeles Lakers  \n",
      "10359   San Antonio Spurs  \n"
     ]
    }
   ],
   "source": [
    "for year in [1994, 1995, 1996, 1997]:\n",
    "    print( salary[salary['season_start']==year].sort_values('salary', ascending=False).head() )"
   ]
  },
  {
   "cell_type": "code",
   "execution_count": 36,
   "metadata": {},
   "outputs": [
    {
     "name": "stdout",
     "output_type": "stream",
     "text": [
      "              player   salary  season_end  season_start team      team_name  \\\n",
      "0       Moses Malone  2406000        1991          1990  ATL  Atlanta Hawks   \n",
      "1  Dominique Wilkins  2065000        1991          1990  ATL  Atlanta Hawks   \n",
      "2         Jon Koncak  1550000        1991          1990  ATL  Atlanta Hawks   \n",
      "3         Doc Rivers   895000        1991          1990  ATL  Atlanta Hawks   \n",
      "4      Tim McCormick   775000        1991          1990  ATL  Atlanta Hawks   \n",
      "\n",
      "   Year   Tm             Player  Age  ...  D-WORP  Adjusted WORP  \\\n",
      "0  1990  ATL       Moses Malone   34  ...    -1.6            5.4   \n",
      "1  1990  ATL  Dominique Wilkins   30  ...    -2.5           11.2   \n",
      "2  1990  ATL         Jon Koncak   26  ...     1.1            1.2   \n",
      "3  1990  ATL         Doc Rivers   28  ...     2.0           12.0   \n",
      "4  1990  HOU      Tim McCormick   27  ...     0.0            0.0   \n",
      "\n",
      "   Estimated Position  BBRef Pos  Age on Feb 1  Yrs Experience  Height  \\\n",
      "0                 4.2        5.0         34.86            15.0    82.0   \n",
      "1                 2.6        3.0         30.06             7.0    79.0   \n",
      "2                 5.0        5.0         26.71             4.0    84.0   \n",
      "3                 1.4        1.0         28.30             6.0    76.0   \n",
      "4                 4.4        5.0         27.90             5.0    83.0   \n",
      "\n",
      "   Weight  Rounded Position  Rounded Age  \n",
      "0   215.0               4.0         35.0  \n",
      "1   200.0               3.0         30.0  \n",
      "2   250.0               5.0         27.0  \n",
      "3   185.0               1.0         28.0  \n",
      "4   240.0               4.0         28.0  \n",
      "\n",
      "[5 rows x 115 columns]\n"
     ]
    }
   ],
   "source": [
    "# print(salary.head())\n",
    "# print(season.head())\n",
    "\n",
    "merged_df = salary.merge( season, left_on=['player', 'season_start'], right_on=['Player', 'Year'], how='inner')\n",
    "print(merged_df.head())"
   ]
  },
  {
   "cell_type": "code",
   "execution_count": 42,
   "metadata": {},
   "outputs": [
    {
     "name": "stderr",
     "output_type": "stream",
     "text": [
      "/Users/asfox/Applilcations/anaconda3/lib/python3.6/site-packages/scipy/stats/stats.py:1713: FutureWarning: Using a non-tuple sequence for multidimensional indexing is deprecated; use `arr[tuple(seq)]` instead of `arr[seq]`. In the future this will be interpreted as an array index, `arr[np.array(seq)]`, which will result either in an error or a different result.\n",
      "  return np.add.reduce(sorted[indexer] * weights, axis=axis) / sumval\n"
     ]
    },
    {
     "name": "stdout",
     "output_type": "stream",
     "text": [
      "salary explains ~0.217727599744884% of win prct\n"
     ]
    },
    {
     "data": {
      "image/png": "[encoded data removed]",
      "text/plain": [
       "<Figure size 432x432 with 3 Axes>"
      ]
     },
     "metadata": {},
     "output_type": "display_data"
    }
   ],
   "source": [
    "g = sns.jointplot(\"salary\", \"Adjusted WORP\", data=merged_df, kind=\"reg\")\n",
    "r_sq = np.corrcoef(merged_df['salary'], merged_df['Adjusted WORP'])[0,1]\n",
    "r_sq = r_sq**2\n",
    "print(\"salary explains ~\"+str(r_sq)+'% of win prct')"
   ]
  },
  {
   "cell_type": "code",
   "execution_count": 43,
   "metadata": {},
   "outputs": [
    {
     "data": {
      "text/html": [
       "<div>\n",
       "<style scoped>\n",
       "    .dataframe tbody tr th:only-of-type {\n",
       "        vertical-align: middle;\n",
       "    }\n",
       "\n",
       "    .dataframe tbody tr th {\n",
       "        vertical-align: top;\n",
       "    }\n",
       "\n",
       "    .dataframe thead th {\n",
       "        text-align: right;\n",
       "    }\n",
       "</style>\n",
       "<table border=\"1\" class=\"dataframe\">\n",
       "  <thead>\n",
       "    <tr style=\"text-align: right;\">\n",
       "      <th></th>\n",
       "      <th>player</th>\n",
       "      <th>salary</th>\n",
       "      <th>season_end</th>\n",
       "      <th>season_start</th>\n",
       "      <th>team</th>\n",
       "      <th>team_name</th>\n",
       "      <th>Year</th>\n",
       "      <th>Tm</th>\n",
       "      <th>Player</th>\n",
       "      <th>Age</th>\n",
       "      <th>...</th>\n",
       "      <th>D-WORP</th>\n",
       "      <th>Adjusted WORP</th>\n",
       "      <th>Estimated Position</th>\n",
       "      <th>BBRef Pos</th>\n",
       "      <th>Age on Feb 1</th>\n",
       "      <th>Yrs Experience</th>\n",
       "      <th>Height</th>\n",
       "      <th>Weight</th>\n",
       "      <th>Rounded Position</th>\n",
       "      <th>Rounded Age</th>\n",
       "    </tr>\n",
       "  </thead>\n",
       "  <tbody>\n",
       "    <tr>\n",
       "      <th>3038</th>\n",
       "      <td>Stephen Curry</td>\n",
       "      <td>10629213</td>\n",
       "      <td>2015</td>\n",
       "      <td>2014</td>\n",
       "      <td>GSW</td>\n",
       "      <td>Golden State Warriors</td>\n",
       "      <td>2014</td>\n",
       "      <td>GSW</td>\n",
       "      <td>Stephen Curry</td>\n",
       "      <td>27</td>\n",
       "      <td>...</td>\n",
       "      <td>1.1</td>\n",
       "      <td>35.2</td>\n",
       "      <td>1.1</td>\n",
       "      <td>1.0</td>\n",
       "      <td>27.89</td>\n",
       "      <td>6.0</td>\n",
       "      <td>75.0</td>\n",
       "      <td>185.0</td>\n",
       "      <td>1.0</td>\n",
       "      <td>28.0</td>\n",
       "    </tr>\n",
       "    <tr>\n",
       "      <th>3069</th>\n",
       "      <td>Stephen Curry</td>\n",
       "      <td>12112359</td>\n",
       "      <td>2017</td>\n",
       "      <td>2016</td>\n",
       "      <td>GSW</td>\n",
       "      <td>Golden State Warriors</td>\n",
       "      <td>2016</td>\n",
       "      <td>GSW</td>\n",
       "      <td>Stephen Curry</td>\n",
       "      <td>27</td>\n",
       "      <td>...</td>\n",
       "      <td>1.1</td>\n",
       "      <td>35.2</td>\n",
       "      <td>1.1</td>\n",
       "      <td>1.0</td>\n",
       "      <td>27.89</td>\n",
       "      <td>6.0</td>\n",
       "      <td>75.0</td>\n",
       "      <td>185.0</td>\n",
       "      <td>1.0</td>\n",
       "      <td>28.0</td>\n",
       "    </tr>\n",
       "  </tbody>\n",
       "</table>\n",
       "<p>2 rows × 115 columns</p>\n",
       "</div>"
      ],
      "text/plain": [
       "             player    salary  season_end  season_start team  \\\n",
       "3038  Stephen Curry  10629213        2015          2014  GSW   \n",
       "3069  Stephen Curry  12112359        2017          2016  GSW   \n",
       "\n",
       "                  team_name  Year   Tm         Player  Age  ...  D-WORP  \\\n",
       "3038  Golden State Warriors  2014  GSW  Stephen Curry   27  ...     1.1   \n",
       "3069  Golden State Warriors  2016  GSW  Stephen Curry   27  ...     1.1   \n",
       "\n",
       "      Adjusted WORP  Estimated Position  BBRef Pos  Age on Feb 1  \\\n",
       "3038           35.2                 1.1        1.0         27.89   \n",
       "3069           35.2                 1.1        1.0         27.89   \n",
       "\n",
       "      Yrs Experience  Height  Weight  Rounded Position  Rounded Age  \n",
       "3038             6.0    75.0   185.0               1.0         28.0  \n",
       "3069             6.0    75.0   185.0               1.0         28.0  \n",
       "\n",
       "[2 rows x 115 columns]"
      ]
     },
     "execution_count": 43,
     "metadata": {},
     "output_type": "execute_result"
    }
   ],
   "source": [
    "merged_df.loc[ merged_df['Adjusted WORP'] > 30]"
   ]
  },
  {
   "cell_type": "code",
   "execution_count": 44,
   "metadata": {},
   "outputs": [],
   "source": [
    "import statsmodels.api as sm"
   ]
  },
  {
   "cell_type": "code",
   "execution_count": 50,
   "metadata": {},
   "outputs": [
    {
     "name": "stdout",
     "output_type": "stream",
     "text": [
      "                            OLS Regression Results                            \n",
      "==============================================================================\n",
      "Dep. Variable:          Adjusted WORP   R-squared:                       0.250\n",
      "Model:                            OLS   Adj. R-squared:                  0.249\n",
      "Method:                 Least Squares   F-statistic:                     1661.\n",
      "Date:                Mon, 08 Apr 2019   Prob (F-statistic):               0.00\n",
      "Time:                        16:11:34   Log-Likelihood:                -26791.\n",
      "No. Observations:                9991   AIC:                         5.359e+04\n",
      "Df Residuals:                    9988   BIC:                         5.361e+04\n",
      "Df Model:                           2                                         \n",
      "Covariance Type:            nonrobust                                         \n",
      "==============================================================================\n",
      "                 coef    std err          t      P>|t|      [0.025      0.975]\n",
      "------------------------------------------------------------------------------\n",
      "const        199.5641      9.639     20.703      0.000     180.669     218.459\n",
      "Year          -0.0993      0.005    -20.611      0.000      -0.109      -0.090\n",
      "salary      5.112e-07   8.87e-09     57.616      0.000    4.94e-07    5.29e-07\n",
      "==============================================================================\n",
      "Omnibus:                     3228.959   Durbin-Watson:                   1.745\n",
      "Prob(Omnibus):                  0.000   Jarque-Bera (JB):            12929.236\n",
      "Skew:                           1.563   Prob(JB):                         0.00\n",
      "Kurtosis:                       7.614   Cond. No.                     1.53e+09\n",
      "==============================================================================\n",
      "\n",
      "Warnings:\n",
      "[1] Standard Errors assume that the covariance matrix of the errors is correctly specified.\n",
      "[2] The condition number is large, 1.53e+09. This might indicate that there are\n",
      "strong multicollinearity or other numerical problems.\n"
     ]
    },
    {
     "name": "stderr",
     "output_type": "stream",
     "text": [
      "/Users/asfox/Applilcations/anaconda3/lib/python3.6/site-packages/numpy/core/fromnumeric.py:2389: FutureWarning: Method .ptp is deprecated and will be removed in a future version. Use numpy.ptp instead.\n",
      "  return ptp(axis=axis, out=out, **kwargs)\n"
     ]
    }
   ],
   "source": [
    "y = merged_df['Adjusted WORP']\n",
    "X = merged_df[['Year', 'salary']]\n",
    "X = sm.add_constant(X)\n",
    "model = sm.OLS( y, X )\n",
    "results = model.fit()\n",
    "print(results.summary())\n",
    "\n",
    "merged_df['underpaid'] = results.resid"
   ]
  },
  {
   "cell_type": "code",
   "execution_count": 57,
   "metadata": {},
   "outputs": [
    {
     "name": "stdout",
     "output_type": "stream",
     "text": [
      "<class 'pandas.core.indexes.base.Index'>\n",
      "<class 'numpy.ndarray'>\n",
      "['player' 'salary' 'season_end' 'season_start' 'team' 'team_name' 'Year'\n",
      " 'Tm' 'Player' 'Age' 'G' 'MP' 'PER' 'TS%' '3PAr' 'FTr' 'ORB%' 'DRB%'\n",
      " 'TRB%' 'AST%' 'STL%' 'BLK%' 'TOV%' 'USG%' '.' 'OWS' 'DWS' 'WS' 'WS/48'\n",
      " '..1' 'OBPM' 'DBPM' 'BPM' 'VORP' 'OWS/48' 'DWS/48' 'Shot%' 'Player ID'\n",
      " 'Team Mar' 'Team MP' 'Team Gm' 'Year 3PAr' 'Team TS%' 'Tm USG'\n",
      " 'Tm TS W/O Plyr' 'Reb/Vers' 'Defense' 'Val/Shot' 'Offense' 'MPG + Int'\n",
      " 'RAW SPM' '%Min' 'RAW Contrib' 'Tm Sum' 'Tm Adj' 'BPM.1' 'StdErr'\n",
      " 'Contrib' 'VORP.1' 'Reb/Vers.1' 'Val/Shot.1' 'Offense.1' 'Defense.1'\n",
      " 'MPG' 'Raw OBPM' 'Contrib.1' 'Tm Ortg' 'Tm Sum.1' 'Tm Adj.1' 'Tm DRtg'\n",
      " 'OBPM.1' 'OStdErr' 'Ocontrib' 'OVORP' 'DBPM.1' 'DStdErr' 'Dcontrib'\n",
      " 'DVORP' 'Sum SPM' '%Min.1' 'MPG.1' 'ReMPG' 'BPM.2' 'Contrib.2' 'VORP.2'\n",
      " 'VORP-Gm' 'O-BPM' 'Ocontrib.1' 'OVORP.1' 'OVORP-Gm' 'D-BPM' 'Dcontrib.1'\n",
      " 'DVORP.1' 'DVORP-Gm' 'Production' 'Prod-Gm' 'Exp BPM' 'TrueTalentBPM'\n",
      " 'Exp%Min' 'TrueTalentVORP' 'TrueSalary' 'TrueTimeVORP'\n",
      " 'Adjusted Production' 'WORP' 'O-WORP' 'D-WORP' 'Adjusted WORP'\n",
      " 'Estimated Position' 'BBRef Pos' 'Age on Feb 1' 'Yrs Experience' 'Height'\n",
      " 'Weight' 'Rounded Position' 'Rounded Age' 'underpaid']\n"
     ]
    }
   ],
   "source": [
    "print(type(merged_df.columns))\n",
    "print(type(merged_df.columns.values))\n",
    "print(merged_df.columns.values)"
   ]
  },
  {
   "cell_type": "code",
   "execution_count": 58,
   "metadata": {},
   "outputs": [
    {
     "data": {
      "text/plain": [
       "<matplotlib.axes._subplots.AxesSubplot at 0x1a1b3a3fd0>"
      ]
     },
     "execution_count": 58,
     "metadata": {},
     "output_type": "execute_result"
    },
    {
     "data": {
      "image/png": "[encoded data removed]",
      "text/plain": [
       "<Figure size 432x288 with 1 Axes>"
      ]
     },
     "metadata": {},
     "output_type": "display_data"
    }
   ],
   "source": [
    "# merged_df['G'].hist()"
   ]
  },
  {
   "cell_type": "code",
   "execution_count": 59,
   "metadata": {},
   "outputs": [],
   "source": [
    "not_hurt = merged_df[ merged_df['G']>=75]"
   ]
  },
  {
   "cell_type": "code",
   "execution_count": 62,
   "metadata": {},
   "outputs": [
    {
     "name": "stdout",
     "output_type": "stream",
     "text": [
      "               player    salary  season_end  season_start team  \\\n",
      "907    Michael Jordan   3250000        1992          1991  CHI   \n",
      "896    Michael Jordan   2500000        1991          1990  CHI   \n",
      "1471     LeBron James  15779912        2010          2009  CLE   \n",
      "8803   David Robinson   7300000        1995          1994  SAS   \n",
      "7475  Charles Barkley   2900000        1991          1990  PHI   \n",
      "\n",
      "                team_name  Year   Tm           Player  Age  ...  \\\n",
      "907         Chicago Bulls  1991  CHI   Michael Jordan   27  ...   \n",
      "896         Chicago Bulls  1990  CHI   Michael Jordan   26  ...   \n",
      "1471  Cleveland Caveliers  2009  CLE     LeBron James   24  ...   \n",
      "8803    San Antonio Spurs  1994  SAS   David Robinson   28  ...   \n",
      "7475   Philadelphia 76ers  1990  PHI  Charles Barkley   26  ...   \n",
      "\n",
      "      Adjusted WORP  Estimated Position  BBRef Pos  Age on Feb 1  \\\n",
      "907            25.0                 2.0        2.0         27.96   \n",
      "896            24.6                 1.9        2.0         26.96   \n",
      "1471           29.3                 2.9        3.0         24.09   \n",
      "8803           25.3                 4.8        5.0         28.49   \n",
      "7475           23.1                 3.5        4.0         26.95   \n",
      "\n",
      "      Yrs Experience  Height  Weight  Rounded Position  Rounded Age  underpaid  \n",
      "907              6.0    78.0   195.0               2.0         28.0  21.396615  \n",
      "896              5.0    78.0   195.0               2.0         27.0  21.280782  \n",
      "1471             5.0    80.0   240.0               3.0         24.0  21.077543  \n",
      "8803             4.0    85.0   235.0               5.0         29.0  19.923892  \n",
      "7475             5.0    78.0   252.0               4.0         27.0  19.576289  \n",
      "\n",
      "[5 rows x 116 columns]\n"
     ]
    }
   ],
   "source": [
    "print(not_hurt.sort_values('underpaid', ascending=False).head())"
   ]
  },
  {
   "cell_type": "code",
   "execution_count": 71,
   "metadata": {},
   "outputs": [
    {
     "data": {
      "text/plain": [
       "player\n",
       "Karl Malone        10\n",
       "LeBron James        8\n",
       "David Robinson      6\n",
       "Scottie Pippen      5\n",
       "Mookie Blaylock     4\n",
       "Name: player, dtype: int64"
      ]
     },
     "execution_count": 71,
     "metadata": {},
     "output_type": "execute_result"
    }
   ],
   "source": [
    "not_hurt.sort_values('underpaid', ascending=False). \\\n",
    "    head(n=100).groupby('player')['player'].count(). \\\n",
    "    sort_values(ascending=False).head(n=5)\n",
    "\n",
    "\n",
    "# sorted_not_hurt = not_hurt.sort_values('underpaid', ascending=False)\n",
    "# sorted_not_hurt_top100 = sorted_not_hurt.head(n=100)\n",
    "# sorted_not_hurt_top100_numTimes = sorted_not_hurt_top100.groupby('player')['player'].count()\n",
    "# print( sorted_not_hurt_top100_numTimes.sort_values(ascending=False) )\n"
   ]
  },
  {
   "cell_type": "code",
   "execution_count": null,
   "metadata": {},
   "outputs": [],
   "source": [
    "\n",
    "\n",
    "\n",
    "\n",
    "\n",
    "\n",
    "\n"
   ]
  },
  {
   "cell_type": "code",
   "execution_count": null,
   "metadata": {},
   "outputs": [],
   "source": [
    "salary.head()\n"
   ]
  },
  {
   "cell_type": "code",
   "execution_count": null,
   "metadata": {},
   "outputs": [],
   "source": [
    "f, this_axis = plt.subplots(1,1)\n",
    "\n",
    "this_axis.plot( salary.groupby('season_start')['salary'].min(), color='gray' )\n",
    "this_axis.plot( salary.groupby('season_start')['salary'].mean(), )\n",
    "this_axis.plot( salary.groupby('season_start')['salary'].max(), color='gray' )\n"
   ]
  },
  {
   "cell_type": "code",
   "execution_count": null,
   "metadata": {},
   "outputs": [],
   "source": [
    "salary.loc[ salary['season_start']==1994 ].sort_values('salary', ascending=False).head()"
   ]
  },
  {
   "cell_type": "code",
   "execution_count": null,
   "metadata": {},
   "outputs": [],
   "source": [
    "print( salary[ salary[['season_start', 'player', 'team_name']].duplicated()] )\n",
    "s = salary.drop_duplicates( subset=['season_start','player','team_name'], keep=False )\n",
    "print(s.head())"
   ]
  },
  {
   "cell_type": "code",
   "execution_count": null,
   "metadata": {},
   "outputs": [],
   "source": [
    "df = s.merge(season, left_on=['player', 'season_start'], right_on=['Player','Year'] )"
   ]
  },
  {
   "cell_type": "code",
   "execution_count": null,
   "metadata": {},
   "outputs": [],
   "source": [
    "np.corrcoef(df['salary'],df['Adjusted WORP'])"
   ]
  },
  {
   "cell_type": "code",
   "execution_count": null,
   "metadata": {},
   "outputs": [],
   "source": [
    "sns.regplot('salary', 'Adjusted WORP', df)"
   ]
  },
  {
   "cell_type": "code",
   "execution_count": null,
   "metadata": {},
   "outputs": [],
   "source": [
    "print(df.loc[df['Adjusted WORP'] > 30])\n"
   ]
  },
  {
   "cell_type": "code",
   "execution_count": null,
   "metadata": {},
   "outputs": [],
   "source": [
    "import statsmodels.api as sm\n"
   ]
  },
  {
   "cell_type": "code",
   "execution_count": null,
   "metadata": {},
   "outputs": [],
   "source": [
    "X = sm.add_constant(df.loc[:,['salary','season_start']])\n",
    "y = df['Adjusted WORP']\n",
    "\n",
    "model = sm.OLS(y,X)\n",
    "results = model.fit()\n",
    "print(results.summary())\n",
    "df['overpaid'] = results.resid_pearson\n"
   ]
  },
  {
   "cell_type": "code",
   "execution_count": null,
   "metadata": {},
   "outputs": [],
   "source": [
    "df.sort_values('overpaid').head(n=10)\n"
   ]
  },
  {
   "cell_type": "code",
   "execution_count": null,
   "metadata": {},
   "outputs": [],
   "source": [
    "df.sort_values('overpaid', ascending=False).head(n=5)"
   ]
  },
  {
   "cell_type": "code",
   "execution_count": null,
   "metadata": {},
   "outputs": [],
   "source": [
    "df.sort_values('overpaid', ascending=False).head(n=40).groupby('player')['player'].count().sort_values(ascending=False)"
   ]
  },
  {
   "cell_type": "code",
   "execution_count": null,
   "metadata": {},
   "outputs": [],
   "source": [
    "df.sort_values('overpaid', ascending=True).head(n=40).groupby('player')['player'].count().sort_values(ascending=False)"
   ]
  }
 ],
 "metadata": {
  "kernelspec": {
   "display_name": "Python 3",
   "language": "python",
   "name": "python3"
  },
  "language_info": {
   "codemirror_mode": {
    "name": "ipython",
    "version": 3
   },
   "file_extension": ".py",
   "mimetype": "text/x-python",
   "name": "python",
   "nbconvert_exporter": "python",
   "pygments_lexer": "ipython3",
   "version": "3.6.5"
  }
 },
 "nbformat": 4,
 "nbformat_minor": 2
}
